{
 "cells": [
  {
   "cell_type": "code",
   "execution_count": 1,
   "source": [
    "import yfinance as yf\r\n",
    "import pandas as pd\r\n",
    "import numpy as np\r\n",
    "from matplotlib import pyplot as plt\r\n",
    "from matplotlib.dates import DateFormatter\r\n",
    "\r\n",
    "# Retrieve two weeks of Bitcoin to USD exchange rates with a 1 hour interval and save the dataframe to a variable.\r\n",
    "BTC_USD = yf.download(\"BTC-USD\", start='2020-01-01', end='2020-12-31', interval='1d')\r\n",
    "BTC_USD.head()"
   ],
   "outputs": [
    {
     "output_type": "error",
     "ename": "ModuleNotFoundError",
     "evalue": "No module named 'yfinance'",
     "traceback": [
      "\u001b[1;31m---------------------------------------------------------------------------\u001b[0m",
      "\u001b[1;31mModuleNotFoundError\u001b[0m                       Traceback (most recent call last)",
      "\u001b[1;32m~\\AppData\\Local\\Temp/ipykernel_11084/3186230411.py\u001b[0m in \u001b[0;36m<module>\u001b[1;34m\u001b[0m\n\u001b[1;32m----> 1\u001b[1;33m \u001b[1;32mimport\u001b[0m \u001b[0myfinance\u001b[0m \u001b[1;32mas\u001b[0m \u001b[0myf\u001b[0m\u001b[1;33m\u001b[0m\u001b[1;33m\u001b[0m\u001b[0m\n\u001b[0m\u001b[0;32m      2\u001b[0m \u001b[1;32mimport\u001b[0m \u001b[0mpandas\u001b[0m \u001b[1;32mas\u001b[0m \u001b[0mpd\u001b[0m\u001b[1;33m\u001b[0m\u001b[1;33m\u001b[0m\u001b[0m\n\u001b[0;32m      3\u001b[0m \u001b[1;32mimport\u001b[0m \u001b[0mnumpy\u001b[0m \u001b[1;32mas\u001b[0m \u001b[0mnp\u001b[0m\u001b[1;33m\u001b[0m\u001b[1;33m\u001b[0m\u001b[0m\n\u001b[0;32m      4\u001b[0m \u001b[1;32mfrom\u001b[0m \u001b[0mmatplotlib\u001b[0m \u001b[1;32mimport\u001b[0m \u001b[0mpyplot\u001b[0m \u001b[1;32mas\u001b[0m \u001b[0mplt\u001b[0m\u001b[1;33m\u001b[0m\u001b[1;33m\u001b[0m\u001b[0m\n\u001b[0;32m      5\u001b[0m \u001b[1;32mfrom\u001b[0m \u001b[0mmatplotlib\u001b[0m\u001b[1;33m.\u001b[0m\u001b[0mdates\u001b[0m \u001b[1;32mimport\u001b[0m \u001b[0mDateFormatter\u001b[0m\u001b[1;33m\u001b[0m\u001b[1;33m\u001b[0m\u001b[0m\n",
      "\u001b[1;31mModuleNotFoundError\u001b[0m: No module named 'yfinance'"
     ]
    }
   ],
   "metadata": {}
  },
  {
   "cell_type": "code",
   "execution_count": 2,
   "source": [
    "fig, ax = plt.subplots(dpi=500)\r\n",
    "\r\n",
    "# Formatting the date axis\r\n",
    "date_format = DateFormatter(\"%h-%d-%y\")\r\n",
    "ax.xaxis.set_major_formatter(date_format)\r\n",
    "ax.tick_params(axis='x', labelsize=8)\r\n",
    "fig.autofmt_xdate()\r\n",
    "\r\n",
    "# Plotting the closing price against the date (1 day interval)\r\n",
    "ax.plot(BTC_USD['Close'], lw=0.75)\r\n",
    "\r\n",
    "# Adding labels and title to the plot\r\n",
    "ax.set_ylabel('Price of Bitcoin (USD)')\r\n",
    "ax.set_title('Bitcoin to USD Exchange Rate')\r\n",
    "ax.grid() # adding a grid\r\n",
    "\r\n",
    "# Displaying the price chart\r\n",
    "plt.show()"
   ],
   "outputs": [
    {
     "output_type": "error",
     "ename": "NameError",
     "evalue": "name 'plt' is not defined",
     "traceback": [
      "\u001b[1;31m---------------------------------------------------------------------------\u001b[0m",
      "\u001b[1;31mNameError\u001b[0m                                 Traceback (most recent call last)",
      "\u001b[1;32m~\\AppData\\Local\\Temp/ipykernel_11084/240615546.py\u001b[0m in \u001b[0;36m<module>\u001b[1;34m\u001b[0m\n\u001b[1;32m----> 1\u001b[1;33m \u001b[0mfig\u001b[0m\u001b[1;33m,\u001b[0m \u001b[0max\u001b[0m \u001b[1;33m=\u001b[0m \u001b[0mplt\u001b[0m\u001b[1;33m.\u001b[0m\u001b[0msubplots\u001b[0m\u001b[1;33m(\u001b[0m\u001b[0mdpi\u001b[0m\u001b[1;33m=\u001b[0m\u001b[1;36m500\u001b[0m\u001b[1;33m)\u001b[0m\u001b[1;33m\u001b[0m\u001b[1;33m\u001b[0m\u001b[0m\n\u001b[0m\u001b[0;32m      2\u001b[0m \u001b[1;33m\u001b[0m\u001b[0m\n\u001b[0;32m      3\u001b[0m \u001b[1;31m# Formatting the date axis\u001b[0m\u001b[1;33m\u001b[0m\u001b[1;33m\u001b[0m\u001b[1;33m\u001b[0m\u001b[0m\n\u001b[0;32m      4\u001b[0m \u001b[0mdate_format\u001b[0m \u001b[1;33m=\u001b[0m \u001b[0mDateFormatter\u001b[0m\u001b[1;33m(\u001b[0m\u001b[1;34m\"%h-%d-%y\"\u001b[0m\u001b[1;33m)\u001b[0m\u001b[1;33m\u001b[0m\u001b[1;33m\u001b[0m\u001b[0m\n\u001b[0;32m      5\u001b[0m \u001b[0max\u001b[0m\u001b[1;33m.\u001b[0m\u001b[0mxaxis\u001b[0m\u001b[1;33m.\u001b[0m\u001b[0mset_major_formatter\u001b[0m\u001b[1;33m(\u001b[0m\u001b[0mdate_format\u001b[0m\u001b[1;33m)\u001b[0m\u001b[1;33m\u001b[0m\u001b[1;33m\u001b[0m\u001b[0m\n",
      "\u001b[1;31mNameError\u001b[0m: name 'plt' is not defined"
     ]
    }
   ],
   "metadata": {}
  },
  {
   "cell_type": "code",
   "execution_count": 3,
   "source": [
    "# Compute a 9-day Simple Moving Average with pandas\r\n",
    "BTC_USD['SMA_9'] = BTC_USD['Close'].rolling(window=9, min_periods=1).mean()"
   ],
   "outputs": [
    {
     "output_type": "error",
     "ename": "NameError",
     "evalue": "name 'BTC_USD' is not defined",
     "traceback": [
      "\u001b[1;31m---------------------------------------------------------------------------\u001b[0m",
      "\u001b[1;31mNameError\u001b[0m                                 Traceback (most recent call last)",
      "\u001b[1;32m~\\AppData\\Local\\Temp/ipykernel_11084/3860180199.py\u001b[0m in \u001b[0;36m<module>\u001b[1;34m\u001b[0m\n\u001b[0;32m      1\u001b[0m \u001b[1;31m# Compute a 9-day Simple Moving Average with pandas\u001b[0m\u001b[1;33m\u001b[0m\u001b[1;33m\u001b[0m\u001b[1;33m\u001b[0m\u001b[0m\n\u001b[1;32m----> 2\u001b[1;33m \u001b[0mBTC_USD\u001b[0m\u001b[1;33m[\u001b[0m\u001b[1;34m'SMA_9'\u001b[0m\u001b[1;33m]\u001b[0m \u001b[1;33m=\u001b[0m \u001b[0mBTC_USD\u001b[0m\u001b[1;33m[\u001b[0m\u001b[1;34m'Close'\u001b[0m\u001b[1;33m]\u001b[0m\u001b[1;33m.\u001b[0m\u001b[0mrolling\u001b[0m\u001b[1;33m(\u001b[0m\u001b[0mwindow\u001b[0m\u001b[1;33m=\u001b[0m\u001b[1;36m9\u001b[0m\u001b[1;33m,\u001b[0m \u001b[0mmin_periods\u001b[0m\u001b[1;33m=\u001b[0m\u001b[1;36m1\u001b[0m\u001b[1;33m)\u001b[0m\u001b[1;33m.\u001b[0m\u001b[0mmean\u001b[0m\u001b[1;33m(\u001b[0m\u001b[1;33m)\u001b[0m\u001b[1;33m\u001b[0m\u001b[1;33m\u001b[0m\u001b[0m\n\u001b[0m",
      "\u001b[1;31mNameError\u001b[0m: name 'BTC_USD' is not defined"
     ]
    }
   ],
   "metadata": {}
  },
  {
   "cell_type": "markdown",
   "source": [
    "## You've computed the Simple Moving Averages but the raw numbers are difficult to interpret and find trends in, so let's go ahead and plot them to get a visual understanding of the trends. You will commonly see the Simple Moving Averages plotted on top of the price chart, so let's do that. We can reuse much of our code from the linechart we created earlier and simply plot the Moving Averages over top."
   ],
   "metadata": {}
  },
  {
   "cell_type": "code",
   "execution_count": 4,
   "source": [
    "fig, ax = plt.subplots(dpi=500)\r\n",
    "\r\n",
    "# Formatting the date axis\r\n",
    "date_format = DateFormatter(\"%h-%d-%y\")\r\n",
    "ax.xaxis.set_major_formatter(date_format)\r\n",
    "ax.tick_params(axis='x', labelsize=8)\r\n",
    "fig.autofmt_xdate()\r\n",
    "\r\n",
    "# Plotting the closing price against the date (1 day interval)\r\n",
    "ax.plot(BTC_USD['Close'], lw=0.75, label='Closing Price') # Added label\r\n",
    "\r\n",
    "\"\"\"\r\n",
    "You have already seen the code above earlier - we are simply reusing it.\r\n",
    "Below we plot the 9 and 30 day Simple Moving Averages and give them the appropriate label\r\n",
    "\"\"\"\r\n",
    "ax.plot(BTC_USD['SMA_9'], lw=0.75, alpha=0.75, label='9 Day SMA')\r\n",
    "ax.plot(BTC_USD['SMA_30'], lw=0.75, alpha=0.75, label='30 Day SMA')\r\n",
    "\r\n",
    "\r\n",
    "# Adding labels and title to the plot\r\n",
    "ax.set_ylabel('Price of Bitcoin (USD)')\r\n",
    "ax.set_title('Bitcoin to USD Exchange Rate')\r\n",
    "ax.grid() # adding a grid\r\n",
    "ax.legend() # adding a legend\r\n",
    "\r\n",
    "# Displaying the price chart\r\n",
    "plt.show()"
   ],
   "outputs": [
    {
     "output_type": "error",
     "ename": "NameError",
     "evalue": "name 'plt' is not defined",
     "traceback": [
      "\u001b[1;31m---------------------------------------------------------------------------\u001b[0m",
      "\u001b[1;31mNameError\u001b[0m                                 Traceback (most recent call last)",
      "\u001b[1;32m~\\AppData\\Local\\Temp/ipykernel_11084/4106216274.py\u001b[0m in \u001b[0;36m<module>\u001b[1;34m\u001b[0m\n\u001b[1;32m----> 1\u001b[1;33m \u001b[0mfig\u001b[0m\u001b[1;33m,\u001b[0m \u001b[0max\u001b[0m \u001b[1;33m=\u001b[0m \u001b[0mplt\u001b[0m\u001b[1;33m.\u001b[0m\u001b[0msubplots\u001b[0m\u001b[1;33m(\u001b[0m\u001b[0mdpi\u001b[0m\u001b[1;33m=\u001b[0m\u001b[1;36m500\u001b[0m\u001b[1;33m)\u001b[0m\u001b[1;33m\u001b[0m\u001b[1;33m\u001b[0m\u001b[0m\n\u001b[0m\u001b[0;32m      2\u001b[0m \u001b[1;33m\u001b[0m\u001b[0m\n\u001b[0;32m      3\u001b[0m \u001b[1;31m# Formatting the date axis\u001b[0m\u001b[1;33m\u001b[0m\u001b[1;33m\u001b[0m\u001b[1;33m\u001b[0m\u001b[0m\n\u001b[0;32m      4\u001b[0m \u001b[0mdate_format\u001b[0m \u001b[1;33m=\u001b[0m \u001b[0mDateFormatter\u001b[0m\u001b[1;33m(\u001b[0m\u001b[1;34m\"%h-%d-%y\"\u001b[0m\u001b[1;33m)\u001b[0m\u001b[1;33m\u001b[0m\u001b[1;33m\u001b[0m\u001b[0m\n\u001b[0;32m      5\u001b[0m \u001b[0max\u001b[0m\u001b[1;33m.\u001b[0m\u001b[0mxaxis\u001b[0m\u001b[1;33m.\u001b[0m\u001b[0mset_major_formatter\u001b[0m\u001b[1;33m(\u001b[0m\u001b[0mdate_format\u001b[0m\u001b[1;33m)\u001b[0m\u001b[1;33m\u001b[0m\u001b[1;33m\u001b[0m\u001b[0m\n",
      "\u001b[1;31mNameError\u001b[0m: name 'plt' is not defined"
     ]
    }
   ],
   "metadata": {}
  },
  {
   "cell_type": "code",
   "execution_count": 5,
   "source": [
    "# Create a pandas dataframe that is the same size as the BTC_USD dataframe and covers the same dates\r\n",
    "trade_signals = pd.DataFrame(index=BTC_USD.index)\r\n",
    "\r\n",
    "# Define the intervals for the Fast and Slow Simple Moving Averages (in days)\r\n",
    "short_interval = 10\r\n",
    "long_interval = 40\r\n",
    "\r\n",
    "# Compute the Simple Moving Averages and add it to the dateframe as new columns\r\n",
    "trade_signals['Short'] = BTC_USD['Close'].rolling(window=short_interval, min_periods=1).mean()\r\n",
    "trade_signals['Long'] = BTC_USD['Close'].rolling(window=long_interval, min_periods=1).mean()"
   ],
   "outputs": [
    {
     "output_type": "error",
     "ename": "NameError",
     "evalue": "name 'pd' is not defined",
     "traceback": [
      "\u001b[1;31m---------------------------------------------------------------------------\u001b[0m",
      "\u001b[1;31mNameError\u001b[0m                                 Traceback (most recent call last)",
      "\u001b[1;32m~\\AppData\\Local\\Temp/ipykernel_11084/759988338.py\u001b[0m in \u001b[0;36m<module>\u001b[1;34m\u001b[0m\n\u001b[0;32m      1\u001b[0m \u001b[1;31m# Create a pandas dataframe that is the same size as the BTC_USD dataframe and covers the same dates\u001b[0m\u001b[1;33m\u001b[0m\u001b[1;33m\u001b[0m\u001b[1;33m\u001b[0m\u001b[0m\n\u001b[1;32m----> 2\u001b[1;33m \u001b[0mtrade_signals\u001b[0m \u001b[1;33m=\u001b[0m \u001b[0mpd\u001b[0m\u001b[1;33m.\u001b[0m\u001b[0mDataFrame\u001b[0m\u001b[1;33m(\u001b[0m\u001b[0mindex\u001b[0m\u001b[1;33m=\u001b[0m\u001b[0mBTC_USD\u001b[0m\u001b[1;33m.\u001b[0m\u001b[0mindex\u001b[0m\u001b[1;33m)\u001b[0m\u001b[1;33m\u001b[0m\u001b[1;33m\u001b[0m\u001b[0m\n\u001b[0m\u001b[0;32m      3\u001b[0m \u001b[1;33m\u001b[0m\u001b[0m\n\u001b[0;32m      4\u001b[0m \u001b[1;31m# Define the intervals for the Fast and Slow Simple Moving Averages (in days)\u001b[0m\u001b[1;33m\u001b[0m\u001b[1;33m\u001b[0m\u001b[1;33m\u001b[0m\u001b[0m\n\u001b[0;32m      5\u001b[0m \u001b[0mshort_interval\u001b[0m \u001b[1;33m=\u001b[0m \u001b[1;36m10\u001b[0m\u001b[1;33m\u001b[0m\u001b[1;33m\u001b[0m\u001b[0m\n",
      "\u001b[1;31mNameError\u001b[0m: name 'pd' is not defined"
     ]
    }
   ],
   "metadata": {}
  },
  {
   "cell_type": "code",
   "execution_count": 6,
   "source": [
    "# Create a new column populated with zeros\r\n",
    "trade_signals['Signal'] = 0.0\r\n",
    "\r\n",
    "# Wherever the Shorter term SMA is above the Longer term SMA, set the Signal column to 1, otherwise 0\r\n",
    "trade_signals['Signal'] = np.where(trade_signals['Short'] > trade_signals['Long'], 1.0, 0.0)   "
   ],
   "outputs": [
    {
     "output_type": "error",
     "ename": "NameError",
     "evalue": "name 'trade_signals' is not defined",
     "traceback": [
      "\u001b[1;31m---------------------------------------------------------------------------\u001b[0m",
      "\u001b[1;31mNameError\u001b[0m                                 Traceback (most recent call last)",
      "\u001b[1;32m~\\AppData\\Local\\Temp/ipykernel_11084/593362772.py\u001b[0m in \u001b[0;36m<module>\u001b[1;34m\u001b[0m\n\u001b[0;32m      1\u001b[0m \u001b[1;31m# Create a new column populated with zeros\u001b[0m\u001b[1;33m\u001b[0m\u001b[1;33m\u001b[0m\u001b[1;33m\u001b[0m\u001b[0m\n\u001b[1;32m----> 2\u001b[1;33m \u001b[0mtrade_signals\u001b[0m\u001b[1;33m[\u001b[0m\u001b[1;34m'Signal'\u001b[0m\u001b[1;33m]\u001b[0m \u001b[1;33m=\u001b[0m \u001b[1;36m0.0\u001b[0m\u001b[1;33m\u001b[0m\u001b[1;33m\u001b[0m\u001b[0m\n\u001b[0m\u001b[0;32m      3\u001b[0m \u001b[1;33m\u001b[0m\u001b[0m\n\u001b[0;32m      4\u001b[0m \u001b[1;31m# Wherever the Shorter term SMA is above the Longer term SMA, set the Signal column to 1, otherwise 0\u001b[0m\u001b[1;33m\u001b[0m\u001b[1;33m\u001b[0m\u001b[1;33m\u001b[0m\u001b[0m\n\u001b[0;32m      5\u001b[0m \u001b[0mtrade_signals\u001b[0m\u001b[1;33m[\u001b[0m\u001b[1;34m'Signal'\u001b[0m\u001b[1;33m]\u001b[0m \u001b[1;33m=\u001b[0m \u001b[0mnp\u001b[0m\u001b[1;33m.\u001b[0m\u001b[0mwhere\u001b[0m\u001b[1;33m(\u001b[0m\u001b[0mtrade_signals\u001b[0m\u001b[1;33m[\u001b[0m\u001b[1;34m'Short'\u001b[0m\u001b[1;33m]\u001b[0m \u001b[1;33m>\u001b[0m \u001b[0mtrade_signals\u001b[0m\u001b[1;33m[\u001b[0m\u001b[1;34m'Long'\u001b[0m\u001b[1;33m]\u001b[0m\u001b[1;33m,\u001b[0m \u001b[1;36m1.0\u001b[0m\u001b[1;33m,\u001b[0m \u001b[1;36m0.0\u001b[0m\u001b[1;33m)\u001b[0m\u001b[1;33m\u001b[0m\u001b[1;33m\u001b[0m\u001b[0m\n",
      "\u001b[1;31mNameError\u001b[0m: name 'trade_signals' is not defined"
     ]
    }
   ],
   "metadata": {}
  },
  {
   "cell_type": "code",
   "execution_count": null,
   "source": [
    "fig, ax = plt.subplots(dpi=500)\r\n",
    "\r\n",
    "# Formatting the date axis\r\n",
    "date_format = DateFormatter(\"%h-%d-%y\")\r\n",
    "ax.xaxis.set_major_formatter(date_format)\r\n",
    "ax.tick_params(axis='x', labelsize=8)\r\n",
    "fig.autofmt_xdate()\r\n",
    "\r\n",
    "\r\n",
    "# Plotting the Bitcoin closing price against the date (1 day interval)\r\n",
    "ax.plot(BTC_USD['Close'], lw=0.75, label='Closing Price')\r\n",
    "\r\n",
    "# Plot the shorter-term moving average\r\n",
    "ax.plot(trade_signals['Short'], lw=0.75, alpha=0.75, color='orange', label='Short-term SMA')\r\n",
    "\r\n",
    "# Plot the longer-term moving average\r\n",
    "ax.plot(trade_signals['Long'], lw=0.75, alpha=0.75, color='purple', label='Long-term SMA')\r\n",
    "\r\n",
    "\r\n",
    "# Adding green arrows to indicate buy orders\r\n",
    "ax.plot(trade_signals.loc[trade_signals['Position']==1.0].index, trade_signals.Short[trade_signals['Position'] == 1.0],\r\n",
    " marker=6, ms=4, linestyle='none', color='green')\r\n",
    "\r\n",
    " # Adding red arrows to indicate sell orders\r\n",
    "ax.plot(trade_signals.loc[trade_signals['Position'] == -1.0].index, trade_signals.Short[trade_signals['Position'] == -1.0],\r\n",
    " marker=7, ms=4, linestyle='none', color='red')\r\n",
    "\r\n",
    "# Adding labels and title to the plot\r\n",
    "ax.set_ylabel('Price of Bitcoin (USD)')\r\n",
    "ax.set_title('Bitcoin to USD Exchange Rate')\r\n",
    "ax.grid() # adding a grid\r\n",
    "ax.legend() # adding a legend\r\n",
    "\r\n",
    "# Displaying the price chart\r\n",
    "plt.show()"
   ],
   "outputs": [],
   "metadata": {}
  },
  {
   "cell_type": "markdown",
   "source": [
    "## Once you have a trading algorithm implemented, you will certainly want to test it to see if it can actually produce a profit and compare its performace with other strategies. Often, the first way to do this is to perform a backtest. The core idea behind a backtest is to simulate running your trading algorithm on historical data and compute several metrics, such as the return. While this method certainly does not guarantee that the algorithmn will be consistently profitable, it's a quick way to test the viability of a strategy and reject clearly unfeasable strategies.\r\n",
    "\r\n",
    "## Let's do a simple backtest over the 2020 BTC-USD data on the trading algorithm we implemented. There are many libraries that can perform sophisticated backtests on a variety of algorithms, however, to develop an understanding of the underlying principle, let's implement our own simple backtest. Let's suppose we start with an account with $10,000 USD."
   ],
   "metadata": {}
  },
  {
   "cell_type": "code",
   "execution_count": null,
   "source": [
    "# Define how much money you will start with (in USD)\r\n",
    "initial_balance = 10000.0 # ten thousand USD\r\n",
    "\r\n",
    "# Create dataframe containing all the dates considered\r\n",
    "backtest = pd.DataFrame(index=trade_signals.index)\r\n",
    "\r\n",
    "# Add column containing the daily percent returns of Bitcoin\r\n",
    "backtest['BTC_Return'] = BTC_USD['Close'] / BTC_USD['Close'].shift(1) # Current closing price / yesterday's closing price\r\n",
    "\r\n",
    "# Add column containing the daily percent returns of the Moving Average Crossover strategy\r\n",
    "backtest['Alg_Return'] = np.where(trade_signals.Signal == 1, backtest.BTC_Return, 1.0)\r\n",
    "\r\n",
    "# Add column containing the daily value of the portfolio using the Crossover strategy\r\n",
    "backtest['Balance'] = initial_balance * backtest.Alg_Return.cumprod() # cumulative product"
   ],
   "outputs": [],
   "metadata": {}
  },
  {
   "cell_type": "markdown",
   "source": [
    "## Let's make a plot comparing the performance of trading algorithm we implemented and a simple \"Buy and Hold\" strategy which will serve as a baseline. Plot the value of the portfolio using either strategy over the course of 2020."
   ],
   "metadata": {}
  },
  {
   "cell_type": "code",
   "execution_count": null,
   "source": [
    "fig, ax = plt.subplots(dpi=500)\r\n",
    "\r\n",
    "# Formatting the date axis\r\n",
    "date_format = DateFormatter(\"%h-%d-%y\")\r\n",
    "ax.xaxis.set_major_formatter(date_format)\r\n",
    "ax.tick_params(axis='x', labelsize=8)\r\n",
    "fig.autofmt_xdate()\r\n",
    "\r\n",
    "# Plotting the value of Buy and Hold Strategy\r\n",
    "ax.plot(initial_balance*backtest.BTC_Return.cumprod(), lw=0.75, alpha=0.75, label='Buy and Hold')\r\n",
    "\r\n",
    "# Plotting total value of Crossing Averages Strategy\r\n",
    "ax.plot(backtest['Balance'], lw=0.75, alpha=0.75, label='Crossing Averages')\r\n",
    "\r\n",
    "# Adding labels and title to the plot\r\n",
    "ax.set_ylabel('USD')\r\n",
    "ax.set_title('Value of Portfolio')\r\n",
    "ax.grid() # adding a grid\r\n",
    "ax.legend() # adding a legend\r\n",
    "\r\n",
    "# Displaying the price chart\r\n",
    "plt.show()"
   ],
   "outputs": [],
   "metadata": {}
  }
 ],
 "metadata": {
  "orig_nbformat": 4,
  "language_info": {
   "name": "python",
   "version": "3.9.6",
   "mimetype": "text/x-python",
   "codemirror_mode": {
    "name": "ipython",
    "version": 3
   },
   "pygments_lexer": "ipython3",
   "nbconvert_exporter": "python",
   "file_extension": ".py"
  },
  "kernelspec": {
   "name": "python3",
   "display_name": "Python 3.9.6 64-bit"
  },
  "interpreter": {
   "hash": "8b03d4cd05d71d535371b426da57de743181e37d8974a9636efe6e78873daaed"
  }
 },
 "nbformat": 4,
 "nbformat_minor": 2
}